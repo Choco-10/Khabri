{
 "cells": [
  {
   "cell_type": "code",
   "execution_count": 4,
   "metadata": {},
   "outputs": [],
   "source": [
    "import pandas as pd\n",
    "from sklearn.feature_extraction.text import TfidfVectorizer\n",
    "from sklearn.metrics.pairwise import cosine_similarity"
   ]
  },
  {
   "cell_type": "code",
   "execution_count": 5,
   "metadata": {},
   "outputs": [],
   "source": [
    "data = {\n",
    "    'id': [1, 2, 3],\n",
    "    'title': [\n",
    "        'Breaking news: local elections results',\n",
    "        'Sports update: Local team wins championship',\n",
    "        'Technology breakthrough: New AI model released'\n",
    "    ],\n",
    "    'category': ['Politics', 'Sports', 'Technology']\n",
    "}\n",
    "\n",
    "df = pd.DataFrame(data)\n",
    "\n",
    "\n",
    "df = pd.read_table(\"news_data.tsv\")\n",
    "df['title'] = df['title']+\" \"+df['description'] + \\\n",
    "    \" \" + df['content'] + 10*(\" \"+df['category'])"
   ]
  },
  {
   "cell_type": "code",
   "execution_count": 6,
   "metadata": {},
   "outputs": [],
   "source": [
    "# Preprocess and vectorize titles\n",
    "vectorizer = TfidfVectorizer(stop_words='english')\n",
    "tfidf_matrix = vectorizer.fit_transform(df['title'])"
   ]
  },
  {
   "cell_type": "code",
   "execution_count": 7,
   "metadata": {},
   "outputs": [],
   "source": [
    "# Function to find the most similar article\n",
    "def find_most_similar_article(new_title, tfidf_matrix, df):\n",
    "    new_tfidf = vectorizer.transform([new_title])\n",
    "    cosine_similarities = cosine_similarity(new_tfidf, tfidf_matrix).flatten()\n",
    "    # Get index of most similar article\n",
    "    similar_idx = cosine_similarities.argsort()[-1]\n",
    "    # print(f\"\\n\\n\\n\\n{df.iloc[cosine_similarities.argsort()[-10]]}\\n\\n\")\n",
    "    return df.iloc[similar_idx]['title'], cosine_similarities[similar_idx]"
   ]
  },
  {
   "cell_type": "code",
   "execution_count": 9,
   "metadata": {},
   "outputs": [
    {
     "name": "stdout",
     "output_type": "stream",
     "text": [
      "Most similar article: Germany knife attack: Police make 2nd arrest in stabbings Police made a second arrest on Saturday in their investigation of a deadly stabbing in the western German city of Solingen, a spokesperson said. The Islamic State group has also claimed responsibility for the Saturday knife attack that killed three people and wounded eight others. SOLINGEN, Germany -\n",
      "The Islamic State group claimed responsibility on Saturday for a knife attack in the German city of Solingen that killed three people and wounded eight others.\n",
      "Some 24 hours after the attack, police said they made a second arrest ... [3742 chars] world world world world world world world world world world (Similarity score: 0.18722263734464825)\n"
     ]
    }
   ],
   "source": [
    "# Example usage\n",
    "new_article = 'military attack'\n",
    "similar_article, similarity_score = find_most_similar_article(\n",
    "    new_article, tfidf_matrix, df)\n",
    "print(\n",
    "    f\"Most similar article: {similar_article} (Similarity score: {similarity_score})\")"
   ]
  }
 ],
 "metadata": {
  "kernelspec": {
   "display_name": ".venv",
   "language": "python",
   "name": "python3"
  },
  "language_info": {
   "codemirror_mode": {
    "name": "ipython",
    "version": 3
   },
   "file_extension": ".py",
   "mimetype": "text/x-python",
   "name": "python",
   "nbconvert_exporter": "python",
   "pygments_lexer": "ipython3",
   "version": "3.11.7"
  }
 },
 "nbformat": 4,
 "nbformat_minor": 2
}
